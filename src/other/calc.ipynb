{
 "cells": [
  {
   "cell_type": "code",
   "execution_count": 11,
   "metadata": {
    "colab": {
     "base_uri": "https://localhost:8080/",
     "height": 35
    },
    "id": "1VxEOik46Y4i",
    "outputId": "569b9a61-e20e-4572-fb96-cfae48b8746f",
    "ExecuteTime": {
     "end_time": "2023-08-06T09:41:50.896691800Z",
     "start_time": "2023-08-06T09:41:50.888712600Z"
    }
   },
   "outputs": [],
   "source": [
    "import math"
   ]
  },
  {
   "cell_type": "code",
   "execution_count": 1,
   "outputs": [],
   "source": [
    "import math\n",
    "\n",
    "\n",
    "def geo_prog_sum(b_1, denom, n):\n",
    "    return b_1 * (denom**n - 1) / (denom - 1)"
   ],
   "metadata": {
    "collapsed": false,
    "ExecuteTime": {
     "end_time": "2023-08-06T09:16:19.568754700Z",
     "start_time": "2023-08-06T09:16:19.556786500Z"
    }
   }
  },
  {
   "cell_type": "code",
   "execution_count": 7,
   "metadata": {
    "colab": {
     "base_uri": "https://localhost:8080/"
    },
    "id": "YUDgG2zk7Us5",
    "outputId": "f850ac51-3a37-4935-f023-e27225fee33f",
    "ExecuteTime": {
     "end_time": "2023-08-06T09:20:12.596621600Z",
     "start_time": "2023-08-06T09:20:12.555730500Z"
    }
   },
   "outputs": [],
   "source": [
    "# Все расчёты далее (если не указано иное) в рублях\n",
    "X = 16500 #min\n",
    "Y = 35000*30 #max\n",
    "r = 1.01\n",
    "q = 1.01\n",
    "\n",
    "start = 19 #ages\n",
    "now = 306e3\n",
    "aim = 100 * Y"
   ]
  },
  {
   "cell_type": "code",
   "source": [
    "for finish in [42, 39, 35, 33, 30, 27, 25, 22]:\n",
    "    months = (finish - start) * 12\n",
    "    summ = geo_prog_sum(1, r, months)\n",
    "    first = (aim - now * r**months) / (months * r**(months-1))\n",
    "    last = first * r**(months-1)\n",
    "    # if first < 0:\n",
    "    #     # first = math.log(now * summ / aim, 1.01)\n",
    "    #     first = 0\n",
    "    #     last = 0\n",
    "\n",
    "    print(finish, int(first), int(last))"
   ],
   "metadata": {
    "colab": {
     "base_uri": "https://localhost:8080/"
    },
    "id": "Rs2B2MdfNBma",
    "outputId": "a8ff429c-9d94-4378-eaaf-2c07b115243e",
    "ExecuteTime": {
     "end_time": "2023-08-06T09:24:02.647668Z",
     "start_time": "2023-08-06T09:24:02.626724600Z"
    }
   },
   "execution_count": 10,
   "outputs": [
    {
     "name": "stdout",
     "output_type": "stream",
     "text": [
      "42 23535 363156\n",
      "39 39278 423611\n",
      "35 80143 536107\n",
      "33 116794 615308\n",
      "30 213689 786833\n",
      "27 421779 1085464\n",
      "25 715221 1449633\n",
      "22 2050331 2904505\n"
     ]
    }
   ]
  },
  {
   "cell_type": "code",
   "execution_count": 23,
   "outputs": [],
   "source": [
    "# Все расчёты далее (если не указано иное) в рублях\n",
    "\n",
    "start = 25 #ages\n",
    "maxi = 40\n",
    "c = 10\n",
    "\n",
    "x = 2.5e3\n",
    "Y = 22e3\n",
    "aim = 12 * Y / (r - 1)\n",
    "r = 1.1\n",
    "d = 5e3\n"
   ],
   "metadata": {
    "collapsed": false,
    "ExecuteTime": {
     "end_time": "2023-08-06T09:53:44.905382500Z",
     "start_time": "2023-08-06T09:53:44.886264200Z"
    }
   }
  },
  {
   "cell_type": "code",
   "execution_count": 18,
   "outputs": [
    {
     "data": {
      "text/plain": "48.98829822079375"
     },
     "execution_count": 18,
     "metadata": {},
     "output_type": "execute_result"
    }
   ],
   "source": [
    "pre = (aim * (r - 1) / x) + 1\n",
    "n = math.log(pre, r)\n",
    "n"
   ],
   "metadata": {
    "collapsed": false,
    "ExecuteTime": {
     "end_time": "2023-08-06T09:45:17.193764700Z",
     "start_time": "2023-08-06T09:45:17.171826500Z"
    }
   }
  },
  {
   "cell_type": "code",
   "execution_count": 24,
   "outputs": [
    {
     "data": {
      "text/plain": "47.20314854715221"
     },
     "execution_count": 24,
     "metadata": {},
     "output_type": "execute_result"
    }
   ],
   "source": [
    "E = aim - x * (r**c - 1) / (r - 1)\n",
    "pre2 = E * (r - 1) / (x + d)\n",
    "n = c + math.log(pre2, r)\n",
    "n"
   ],
   "metadata": {
    "collapsed": false,
    "ExecuteTime": {
     "end_time": "2023-08-06T09:53:47.820103900Z",
     "start_time": "2023-08-06T09:53:47.778180600Z"
    }
   }
  },
  {
   "cell_type": "code",
   "execution_count": 25,
   "outputs": [],
   "source": [
    "A = 600e3\n",
    "x = 5e3\n",
    "r = 1.1\n",
    "Y = 10e3"
   ],
   "metadata": {
    "collapsed": false,
    "ExecuteTime": {
     "end_time": "2023-08-06T09:59:19.996233400Z",
     "start_time": "2023-08-06T09:59:19.983267700Z"
    }
   }
  },
  {
   "cell_type": "code",
   "execution_count": 30,
   "outputs": [],
   "source": [
    "q = 1.14\n",
    "k = 1.12\n",
    "n = 10"
   ],
   "metadata": {
    "collapsed": false,
    "ExecuteTime": {
     "end_time": "2023-08-06T10:11:49.853663200Z",
     "start_time": "2023-08-06T10:11:49.834633400Z"
    }
   }
  },
  {
   "cell_type": "code",
   "execution_count": 33,
   "outputs": [
    {
     "data": {
      "text/plain": "1.2236357755394878"
     },
     "execution_count": 33,
     "metadata": {},
     "output_type": "execute_result"
    }
   ],
   "source": [
    "r = (q**n / k**(n-2))**0.5\n",
    "r"
   ],
   "metadata": {
    "collapsed": false,
    "ExecuteTime": {
     "end_time": "2023-08-06T10:13:28.084971900Z",
     "start_time": "2023-08-06T10:13:28.052060700Z"
    }
   }
  }
 ],
 "metadata": {
  "accelerator": "GPU",
  "colab": {
   "provenance": []
  },
  "interpreter": {
   "hash": "3fbe1355223f7b2ffc113ba3ade6a2b520cadace5d5ec3e828c83ce02eb221bf"
  },
  "kernelspec": {
   "display_name": "Python 3 (ipykernel)",
   "language": "python",
   "name": "python3"
  },
  "language_info": {
   "codemirror_mode": {
    "name": "ipython",
    "version": 3
   },
   "file_extension": ".py",
   "mimetype": "text/x-python",
   "name": "python",
   "nbconvert_exporter": "python",
   "pygments_lexer": "ipython3",
   "version": "3.8.13"
  },
  "gpuClass": "standard"
 },
 "nbformat": 4,
 "nbformat_minor": 0
}
